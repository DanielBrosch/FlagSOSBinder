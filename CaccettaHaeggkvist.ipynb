{
 "cells": [
  {
   "cell_type": "markdown",
   "metadata": {},
   "source": [
    "# Constrained example: Caccetta Haeggkvist conjecture\n",
    "The maximum minimum outdegree of a directed graph (without digons) without directed triangles is conjectured to be $\\frac{1}{3}$:\n",
    "$$\n",
    "\\begin{aligned}\n",
    "\\frac{1}{3}=\\max_{G \\text{ directed graph}} &r\\\\\n",
    "\\text{s.t.}\\enspace & G \\text{ has no directed triangles},\\\\\n",
    "& \\text{the relative outdegree of every vertex is at least }r.\n",
    "\\end{aligned}\n",
    "$$\n",
    "Here we compute an upper bound using a basic application of flag algebras. A more advanced application of the method lead to current best bound."
   ]
  },
  {
   "cell_type": "code",
   "execution_count": null,
   "metadata": {},
   "outputs": [],
   "source": [
    "using FlagSOS"
   ]
  },
  {
   "cell_type": "markdown",
   "metadata": {},
   "source": [
    "## Setting up the model\n",
    "We work with directed graphs without digons."
   ]
  },
  {
   "cell_type": "code",
   "execution_count": null,
   "metadata": {},
   "outputs": [],
   "source": [
    "const Digraph = DirectedGraph{false}"
   ]
  },
  {
   "cell_type": "markdown",
   "metadata": {},
   "source": [
    "We define the relevant graphs using their adjacency matrices."
   ]
  },
  {
   "cell_type": "code",
   "execution_count": null,
   "metadata": {},
   "outputs": [],
   "source": [
    "directedEdge = Digraph(Bool[0 1; 0 0]) # o -> o\n",
    "directedTriangle = Digraph(Bool[0 1 0; 0 0 1; 1 0 0]) # x -> o -> o -> x"
   ]
  },
  {
   "cell_type": "markdown",
   "metadata": {},
   "source": [
    "We start with an empty `FlagModel` of type `DirectedGraph`, where we forbid the directed triangle:"
   ]
  },
  {
   "cell_type": "code",
   "execution_count": null,
   "metadata": {},
   "outputs": [],
   "source": [
    "m = FlagModel{Digraph}()\n",
    "addForbiddenFlag!(m, directedTriangle)"
   ]
  },
  {
   "cell_type": "markdown",
   "metadata": {},
   "source": [
    "## Choosing a relaxation\n",
    "Now we need to choose a hierarchy. One option is the Lasserre hierarchy, which we can attach to the model using `addLasserreBlock!`."
   ]
  },
  {
   "cell_type": "code",
   "execution_count": null,
   "metadata": {},
   "outputs": [],
   "source": [
    "addLasserreBlock!(m, 4);"
   ]
  },
  {
   "cell_type": "markdown",
   "metadata": {},
   "source": [
    "This results in a semidefinite programming problem with block sizes"
   ]
  },
  {
   "cell_type": "code",
   "execution_count": null,
   "metadata": {},
   "outputs": [],
   "source": [
    "modelSize(m)"
   ]
  },
  {
   "cell_type": "markdown",
   "metadata": {},
   "source": [
    "We obtain an equivalent formulation of the conjecture the following way: We remove additional outgoing edges, until every vertex has relative outdegree exactly r. Then r is exactly the edge density of the digraph, i.e. we want to maximize the density of `directedEdge`. This we can do by minimizing its negative"
   ]
  },
  {
   "cell_type": "code",
   "execution_count": null,
   "metadata": {},
   "outputs": [],
   "source": [
    "m.objective = -1 * directedEdge"
   ]
  },
  {
   "cell_type": "markdown",
   "metadata": {},
   "source": [
    "We add the constraint that every vertex has relative outdegree identical to the (directed) edge density of the graph."
   ]
  },
  {
   "cell_type": "code",
   "execution_count": null,
   "metadata": {},
   "outputs": [],
   "source": [
    "const lDigraph = PartiallyLabeledFlag{Digraph}\n",
    "e1 = lDigraph(Bool[0 1; 0 0]; n=1) # 1 -> o\n",
    "eL = lDigraph(Bool[0 1; 0 0]; n=0) # o -> o\n",
    "\n",
    "qm2 = FlagSOS.addEquality!(m, e1 - eL, 4);"
   ]
  },
  {
   "cell_type": "markdown",
   "metadata": {},
   "source": [
    "Finally, we compute the coefficients of the SDP."
   ]
  },
  {
   "cell_type": "code",
   "execution_count": null,
   "metadata": {},
   "outputs": [],
   "source": [
    "computeSDP!(m)"
   ]
  },
  {
   "cell_type": "markdown",
   "metadata": {},
   "source": [
    "## Solving the SDP\n",
    "We solve the relaxation using [Hypatia](https://github.com/chriscoey/Hypatia.jl)."
   ]
  },
  {
   "cell_type": "code",
   "execution_count": null,
   "metadata": {},
   "outputs": [],
   "source": [
    "using Hypatia, JuMP\n",
    "jm = buildJuMPModel(m)\n",
    "set_optimizer(jm.model, Hypatia.Optimizer)\n",
    "optimize!(jm.model)\n",
    "termination_status(jm.model)"
   ]
  },
  {
   "cell_type": "code",
   "execution_count": null,
   "metadata": {},
   "outputs": [],
   "source": [
    "objective_value(jm.model)"
   ]
  },
  {
   "cell_type": "markdown",
   "metadata": {},
   "source": [
    "---\n",
    "\n",
    "*This notebook was generated using [Literate.jl](https://github.com/fredrikekre/Literate.jl).*"
   ]
  }
 ],
 "metadata": {
  "kernelspec": {
   "display_name": "Julia 1.9.3",
   "language": "julia",
   "name": "julia-1.9"
  },
  "language_info": {
   "file_extension": ".jl",
   "mimetype": "application/julia",
   "name": "julia",
   "version": "1.9.3"
  }
 },
 "nbformat": 4,
 "nbformat_minor": 3
}
